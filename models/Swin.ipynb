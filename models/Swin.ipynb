{
  "cells": [
    {
      "cell_type": "markdown",
      "metadata": {
        "id": "idlZqBnuHqYo"
      },
      "source": [
        "# Swin Transformer - Colab notebook\n",
        "This notebook trains both the base (non-adversarial) Swin-T on the ISIC and NIH Chest x-ray datasets, and evaluates the Swin-T on data with Gaussian noise added. Base training and noisy evaluation commands are separated into different cells. Cells with adversarial versions do not run, but are included here to document the original intentions of the project."
      ]
    },
    {
      "cell_type": "code",
      "execution_count": null,
      "metadata": {
        "id": "vd2WO80AvmYQ"
      },
      "outputs": [],
      "source": [
        "# Installations & mount Drive\n",
        "!pip install timm==0.4.12 yacs==0.1.8 adversarial-robustness-toolbox\n",
        "!pip install -U PyYAML\n",
        "!pip install git+https://github.com/fra31/auto-attack\n",
        "from google.colab import drive\n",
        "drive.mount('/content/drive')"
      ]
    },
    {
      "cell_type": "code",
      "execution_count": null,
      "metadata": {
        "id": "nB7V1h7rUJqu"
      },
      "outputs": [],
      "source": [
        "# remove hidden ipynb checkpoints and .DS_Store from data folders to avoid later FileNotFoundError\n",
        "!rm -R /content/drive/MyDrive/MLSP_Masters/ECE_697/data/isic/isic_org/.ipynb_checkpoints\n",
        "!rm -R /content/drive/MyDrive/MLSP_Masters/ECE_697/data/isic/isic_org/.DS_Store"
      ]
    },
    {
      "cell_type": "markdown",
      "metadata": {
        "id": "YGrju0LfNaPf"
      },
      "source": [
        "Run Swin Transformer configurations\n",
        "\n",
        "NIH Chest X-ray dataset"
      ]
    },
    {
      "cell_type": "code",
      "execution_count": null,
      "metadata": {
        "id": "xSTZZ16VvSZF"
      },
      "outputs": [],
      "source": [
        "# Run swin transformer on clean chest x-ray dataset with pretrained Imagenet weights\n",
        "%%bash\n",
        "python -m torch.distributed.launch --nproc_per_node 1 --master_port 12345  /content/drive/MyDrive/MLSP_Masters/ECE_697/models/Swin-Transformer/main.py --cfg /content/drive/MyDrive/MLSP_Masters/ECE_697/models/Swin-Transformer/configs/swin/swin_tiny_patch4_window7_224.yaml --resume /content/drive/MyDrive/MLSP_Masters/ECE_697/models/Swin-Transformer/swin_tiny_patch4_window7_224.pth --data-path /content/drive/MyDrive/MLSP_Masters/ECE_697/data/imagenet --batch-size 128 --output /content/drive/MyDrive/MLSP_Masters/ECE_697/data/swin_chxray_base_output --use-checkpoint\n"
      ]
    },
    {
      "cell_type": "code",
      "source": [
        "# Evaluate swin transformer on noisy chest x-ray dataset (after 40 epochs of clean training)\n",
        "!python -m torch.distributed.launch --nproc_per_node 1 --master_port 12345  /content/drive/MyDrive/MLSP_Masters/ECE_697/models/Swin-Transformer/main.py --cfg /content/drive/MyDrive/MLSP_Masters/ECE_697/models/Swin-Transformer/configs/swin/swin_tiny_patch4_window7_224.yaml --resume /content/drive/MyDrive/MLSP_Masters/ECE_697/models/Swin-Transformer/ckpt_epoch_40.pth --data-path /content/drive/MyDrive/MLSP_Masters/ECE_697/data/imagenet --batch-size 128 --output /content/drive/MyDrive/MLSP_Masters/ECE_697/data/swin_chxray_base_output --use-checkpoint --noise True\n"
      ],
      "metadata": {
        "id": "u6x8diwhegy5"
      },
      "execution_count": null,
      "outputs": []
    },
    {
      "cell_type": "code",
      "execution_count": null,
      "metadata": {
        "id": "MMNvXJZ4vdkE"
      },
      "outputs": [],
      "source": [
        "# Run adversarial swin transformer on chest x-ray dataset (Does not execute)\n",
        "!pip install git+https://github.com/fra31/auto-attack\n",
        "!python -m torch.distributed.launch --nproc_per_node 1 --master_port 12345 /content/drive/MyDrive/MLSP_Masters/ECE_697/models/Swin-Transformer/swin_autoattack.py --cfg=/content/drive/MyDrive/MLSP_Masters/ECE_697/models/Swin-Transformer/configs/swin/swin_tiny_patch4_window7_224.yaml --data_dir=/content/drive/MyDrive/MLSP_Masters/ECE_697/data/swin_auto_1000 --csv=/content/drive/MyDrive/MLSP_Masters/ECE_697/data/swin_autoattack_1000.csv --model=/content/drive/MyDrive/MLSP_Masters/ECE_697/models/Swin-Transformer/ckpt_epoch_150.pth --save_dir=/content/drive/MyDrive/MLSP_Masters/ECE_697/models/swin_chxray_adv_outputs/results --batch_size=128 --num_workers=1 --log_path=/content/drive/MyDrive/MLSP_Masters/ECE_697/models/swin_chxray_adv_outputs \n"
      ]
    },
    {
      "cell_type": "markdown",
      "metadata": {
        "id": "ifeQxgaMCTfl"
      },
      "source": [
        "ISIC Dataset"
      ]
    },
    {
      "cell_type": "code",
      "execution_count": null,
      "metadata": {
        "id": "8e-ddplOHZ9r"
      },
      "outputs": [],
      "source": [
        "# Run base swin transformer on clean ISIC dataset\n",
        "!python -m torch.distributed.launch --nproc_per_node 1 --master_port 12345  /content/drive/MyDrive/MLSP_Masters/ECE_697/models/Swin-Transformer/main.py --cfg /content/drive/MyDrive/MLSP_Masters/ECE_697/models/Swin-Transformer/configs/swin/swin_tiny_patch4_window7_224.yaml --resume /content/drive/MyDrive/MLSP_Masters/ECE_697/models/Swin-Transformer/swin_tiny_patch4_window7_224.pth --data-path /content/drive/MyDrive/MLSP_Masters/ECE_697/data/isic/isic_org --batch-size 128 --opts TRAIN.EPOCHS 200 TRAIN.WARMUP_EPOCHS 10 TRAIN.BASE_LR 0.0002 --output /content/drive/MyDrive/MLSP_Masters/ECE_697/data/swin_isic_base_output "
      ]
    },
    {
      "cell_type": "code",
      "source": [
        "# Evaluate swin transformer on noisy ISIC dataset (after 40 epochs of clean training)\n",
        "!python -m torch.distributed.launch --nproc_per_node 1 --master_port 12345  /content/drive/MyDrive/MLSP_Masters/ECE_697/models/Swin-Transformer/main.py --cfg /content/drive/MyDrive/MLSP_Masters/ECE_697/models/Swin-Transformer/configs/swin/swin_tiny_patch4_window7_224.yaml --resume /content/drive/MyDrive/MLSP_Masters/ECE_697/models/Swin-Transformer/isic_ckpt_epoch_40.pth --data-path /content/drive/MyDrive/MLSP_Masters/ECE_697/data/isic/isic_org --batch-size 128 --opts TRAIN.EPOCHS 200 TRAIN.WARMUP_EPOCHS 10 TRAIN.BASE_LR 0.0002 --output /content/drive/MyDrive/MLSP_Masters/ECE_697/data/swin_isic_base_output \n"
      ],
      "metadata": {
        "id": "TU8WY1YJgHc2"
      },
      "execution_count": null,
      "outputs": []
    },
    {
      "cell_type": "code",
      "execution_count": null,
      "metadata": {
        "id": "6KYNqd0I-P6H"
      },
      "outputs": [],
      "source": [
        "# Run adversarial swin transformer on ISIC dataset (Does not execute)\n",
        "\n",
        "!python -m torch.distributed.launch --nproc_per_node 1 --master_port 12345 /content/drive/MyDrive/MLSP_Masters/ECE_697/models/Swin-Transformer/swin_autoattack.py --cfg=/content/drive/MyDrive/MLSP_Masters/ECE_697/models/Swin-Transformer/configs/swin/swin_tiny_patch4_window7_224.yaml --data_dir=/content/drive/MyDrive/MLSP_Masters/ECE_697/data/isic_auto_1000 --csv=/content/drive/MyDrive/MLSP_Masters/ECE_697/data/isic_auto_1000.csv --model=/content/drive/MyDrive/MLSP_Masters/ECE_697/models/Swin-Transformer/isic_ckpt_epoch_150.pth --save_dir=/content/drive/MyDrive/MLSP_Masters/ECE_697/models/swin_isic_adv_outputs/results --batch_size=224 --num_workers=1 --log_path=/content/drive/MyDrive/MLSP_Masters/ECE_697/models/swin_isic_adv_outputs --csv_tr=/content/drive/MyDrive/MLSP_Masters/ECE_697/data/isic_auto_train.csv --csv_ts=/content/drive/MyDrive/MLSP_Masters/ECE_697/data/isic_auto_test.csv\n"
      ]
    }
  ],
  "metadata": {
    "accelerator": "GPU",
    "colab": {
      "background_execution": "on",
      "collapsed_sections": [],
      "machine_shape": "hm",
      "name": "Swin.ipynb",
      "provenance": []
    },
    "gpuClass": "standard",
    "kernelspec": {
      "display_name": "Python 3",
      "name": "python3"
    },
    "language_info": {
      "name": "python"
    }
  },
  "nbformat": 4,
  "nbformat_minor": 0
}